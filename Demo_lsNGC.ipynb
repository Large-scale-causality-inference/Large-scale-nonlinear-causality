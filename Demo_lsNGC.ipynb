{
 "cells": [
  {
   "cell_type": "markdown",
   "metadata": {},
   "source": [
    "# Demo for lsNGC"
   ]
  },
  {
   "cell_type": "markdown",
   "metadata": {},
   "source": [
    "## The following is a demo of a small toy example of a synthetic network."
   ]
  },
  {
   "cell_type": "markdown",
   "metadata": {},
   "source": [
    "For now, lets assume that we have a causality algorithm, which we want to use for topology inference. We name it \"$granger$\", and we put it inside the following function:\n",
    "\n",
    "X: input timeseries data of order $T\\times N$\n",
    "\n",
    "N=X.shape[0] number of variable $N$, and \n",
    "\n",
    "T=X.shape[1] number of time samples $T$\n",
    "\n",
    "Adj: Adjacency matrix of the multivariate input timeseries data"
   ]
  },
  {
   "cell_type": "code",
   "execution_count": 1,
   "metadata": {},
   "outputs": [],
   "source": [
    "import numpy as np\n",
    "import scipy.io as sio\n",
    "from scipy import stats\n",
    "from utils import lsNGC as granger\n",
    "import matplotlib.pyplot as plt\n",
    "from scipy.io import loadmat\n",
    "import networkx as nx\n",
    "from recovery_performance import recovery_performance"
   ]
  },
  {
   "cell_type": "markdown",
   "metadata": {},
   "source": [
    "# Synthetic benchmark, from our Nature paper"
   ]
  },
  {
   "cell_type": "code",
   "execution_count": 2,
   "metadata": {},
   "outputs": [],
   "source": [
    "benchmark_dataset=['logistic3']\n",
    "benchmark_titles={'logistic3':'3-Fan In'}\n",
    "benchmark_TS_set=np.array([50,100,200,500])\n",
    "bechmark_algorithms=[]\n",
    "\n",
    "algorithms_title={}\n",
    "bechmark_algorithms_title=[algorithms_title[i] for i in bechmark_algorithms]\n",
    "\n",
    "benchmark_label=dict()\n",
    "AUC=dict()"
   ]
  },
  {
   "cell_type": "markdown",
   "metadata": {},
   "source": [
    "## Logistic 3 dataset, according to our Nature paper\n",
    "- Has 50 networks of lengths up to 1000. \n",
    "- It has 3 nodes"
   ]
  },
  {
   "cell_type": "markdown",
   "metadata": {},
   "source": [
    "- Novel algorithm"
   ]
  },
  {
   "cell_type": "code",
   "execution_count": 3,
   "metadata": {},
   "outputs": [
    {
     "name": "stdout",
     "output_type": "stream",
     "text": [
      "logistic3, auc lsgc for TS=50: 1.0 + 0.0\n",
      "logistic3, auc lsgc for TS=100: 1.0 + 0.0\n",
      "logistic3, auc lsgc for TS=200: 1.0 + 0.0\n",
      "logistic3, auc lsgc for TS=500: 1.0 + 0.0\n"
     ]
    }
   ],
   "source": [
    "in_data_name='datasets/7SYNTHETICS/logistic_3.mat'\n",
    "\n",
    "\n",
    "for TS in benchmark_TS_set:\n",
    "    benchmark_label['logistic3']=[loadmat(in_data_name)['Adj'] for i in range(50)]\n",
    "    ts_logistic=[loadmat(in_data_name)['pt_N'][i,:,-TS:] for i in range(50)]\n",
    "    Adj_lsgc=[granger(ts_logistic[i], k_f=2, k_g=2, ar_order=1, normalize=1)[0] for i in range(50)]\n",
    "    AUC['granger_logistic3_'+str(TS)]=recovery_performance(Adj_lsgc,benchmark_label['logistic3'])\n",
    "    print(\"logistic3, auc lsgc for TS=\"+str(TS)+\":\", AUC['granger_logistic3_'+str(TS)].mean(),\n",
    "          \"+\",AUC['granger_logistic3_'+str(TS)].std())"
   ]
  }
 ],
 "metadata": {
  "kernelspec": {
   "display_name": "Python 3",
   "language": "python",
   "name": "python3"
  },
  "language_info": {
   "codemirror_mode": {
    "name": "ipython",
    "version": 3
   },
   "file_extension": ".py",
   "mimetype": "text/x-python",
   "name": "python",
   "nbconvert_exporter": "python",
   "pygments_lexer": "ipython3",
   "version": "3.7.6"
  }
 },
 "nbformat": 4,
 "nbformat_minor": 4
}
