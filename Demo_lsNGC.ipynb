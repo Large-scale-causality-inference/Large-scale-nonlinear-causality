{
  "cells": [
    {
      "cell_type": "markdown",
      "metadata": {
        "id": "view-in-github",
        "colab_type": "text"
      },
      "source": [
        "<a href=\"https://colab.research.google.com/github/ali-vosoughi/Large-scale-nonlinear-causality/blob/main/Demo_lsNGC.ipynb\" target=\"_parent\"><img src=\"https://colab.research.google.com/assets/colab-badge.svg\" alt=\"Open In Colab\"/></a>"
      ]
    },
    {
      "cell_type": "markdown",
      "metadata": {
        "id": "nLhq_irZ77qg"
      },
      "source": [
        "# Demo for lsNGC"
      ]
    },
    {
      "cell_type": "markdown",
      "metadata": {
        "id": "SG1k61Y677qh"
      },
      "source": [
        "## The following is a demo of a small toy example of a synthetic network."
      ]
    },
    {
      "cell_type": "markdown",
      "metadata": {
        "id": "uiNkAHOe77qi"
      },
      "source": [
        "For now, lets assume that we have a causality algorithm, which we want to use for topology inference. We name it \"$granger$\", and we put it inside the following function:\n",
        "\n",
        "X: input timeseries data of order $T\\times N$\n",
        "\n",
        "N=X.shape[0] number of variable $N$, and \n",
        "\n",
        "T=X.shape[1] number of time samples $T$\n",
        "\n",
        "Adj: Adjacency matrix of the multivariate input timeseries data"
      ]
    },
    {
      "cell_type": "code",
      "source": [
        "!git clone https://github.com/ali-vosoughi/Large-scale-nonlinear-causality/"
      ],
      "metadata": {
        "colab": {
          "base_uri": "https://localhost:8080/"
        },
        "id": "wQPCrNzu7-bj",
        "outputId": "550a7977-53b4-4c42-de2f-8aaa91ac08fc"
      },
      "execution_count": 7,
      "outputs": [
        {
          "output_type": "stream",
          "name": "stdout",
          "text": [
            "fatal: destination path 'Large-scale-nonlinear-causality' already exists and is not an empty directory.\n"
          ]
        }
      ]
    },
    {
      "cell_type": "code",
      "source": [
        "%cd Large-scale-nonlinear-causality/"
      ],
      "metadata": {
        "colab": {
          "base_uri": "https://localhost:8080/"
        },
        "id": "Fr6lWYYp8h5z",
        "outputId": "b68a911f-32e0-4295-9d33-c4f4d61cd8ee"
      },
      "execution_count": 10,
      "outputs": [
        {
          "output_type": "stream",
          "name": "stdout",
          "text": [
            "/content/Large-scale-nonlinear-causality\n"
          ]
        }
      ]
    },
    {
      "cell_type": "code",
      "source": [
        "!pwd"
      ],
      "metadata": {
        "colab": {
          "base_uri": "https://localhost:8080/"
        },
        "id": "LCrfcUgm8peM",
        "outputId": "5e22ef89-bb88-449e-bdb0-bf9f99a2709d"
      },
      "execution_count": 11,
      "outputs": [
        {
          "output_type": "stream",
          "name": "stdout",
          "text": [
            "/content/Large-scale-nonlinear-causality\n"
          ]
        }
      ]
    },
    {
      "cell_type": "code",
      "execution_count": 12,
      "metadata": {
        "id": "4dluyXic77qi"
      },
      "outputs": [],
      "source": [
        "import numpy as np\n",
        "import scipy.io as sio\n",
        "from scipy import stats\n",
        "from utils import lsNGC as granger\n",
        "import matplotlib.pyplot as plt\n",
        "from scipy.io import loadmat\n",
        "import networkx as nx\n",
        "from recovery_performance import recovery_performance"
      ]
    },
    {
      "cell_type": "markdown",
      "metadata": {
        "id": "SQIVk3jq77qj"
      },
      "source": [
        "# Synthetic benchmark, from our Nature paper"
      ]
    },
    {
      "cell_type": "code",
      "execution_count": 13,
      "metadata": {
        "id": "XXm_qvfZ77qj"
      },
      "outputs": [],
      "source": [
        "benchmark_dataset=['logistic3']\n",
        "benchmark_titles={'logistic3':'3-Fan In'}\n",
        "benchmark_TS_set=np.array([50,100,200,500])\n",
        "bechmark_algorithms=[]\n",
        "\n",
        "algorithms_title={}\n",
        "bechmark_algorithms_title=[algorithms_title[i] for i in bechmark_algorithms]\n",
        "\n",
        "benchmark_label=dict()\n",
        "AUC=dict()"
      ]
    },
    {
      "cell_type": "markdown",
      "metadata": {
        "id": "mexXRUbl77qk"
      },
      "source": [
        "## Logistic 3 dataset, according to our Nature paper\n",
        "- Has 50 networks of lengths up to 1000. \n",
        "- It has 3 nodes"
      ]
    },
    {
      "cell_type": "markdown",
      "metadata": {
        "id": "l0S-GvfO77qk"
      },
      "source": [
        "- Novel algorithm"
      ]
    },
    {
      "cell_type": "code",
      "execution_count": 14,
      "metadata": {
        "colab": {
          "base_uri": "https://localhost:8080/"
        },
        "id": "dQbjd01k77qk",
        "outputId": "fa0c98bf-d072-4cc7-f61a-bc6208d5fceb"
      },
      "outputs": [
        {
          "output_type": "stream",
          "name": "stdout",
          "text": [
            "logistic3, auc lsgc for TS=50: 1.0 + 0.0\n",
            "logistic3, auc lsgc for TS=100: 1.0 + 0.0\n",
            "logistic3, auc lsgc for TS=200: 1.0 + 0.0\n",
            "logistic3, auc lsgc for TS=500: 1.0 + 0.0\n"
          ]
        }
      ],
      "source": [
        "in_data_name='datasets/7SYNTHETICS/logistic_3.mat'\n",
        "\n",
        "\n",
        "for TS in benchmark_TS_set:\n",
        "    benchmark_label['logistic3']= [loadmat(in_data_name)['Adj'] for i in range(50)]\n",
        "    ts_logistic=[loadmat(in_data_name)['pt_N'][i,:,-TS:] for i in range(50)]\n",
        "    Adj_lsgc=[granger(ts_logistic[i], k_f=2, k_g=2, ar_order=1, normalize=1)[0] for i in range(50)]\n",
        "    AUC['granger_logistic3_'+str(TS)]=recovery_performance(Adj_lsgc,benchmark_label['logistic3'])\n",
        "    print(\"logistic3, auc lsgc for TS=\"+str(TS)+\":\", AUC['granger_logistic3_'+str(TS)].mean(),\n",
        "          \"+\",AUC['granger_logistic3_'+str(TS)].std())"
      ]
    }
  ],
  "metadata": {
    "kernelspec": {
      "display_name": "Python 3",
      "language": "python",
      "name": "python3"
    },
    "language_info": {
      "codemirror_mode": {
        "name": "ipython",
        "version": 3
      },
      "file_extension": ".py",
      "mimetype": "text/x-python",
      "name": "python",
      "nbconvert_exporter": "python",
      "pygments_lexer": "ipython3",
      "version": "3.7.6"
    },
    "colab": {
      "name": "Demo_lsNGC.ipynb",
      "provenance": [],
      "include_colab_link": true
    }
  },
  "nbformat": 4,
  "nbformat_minor": 0
}